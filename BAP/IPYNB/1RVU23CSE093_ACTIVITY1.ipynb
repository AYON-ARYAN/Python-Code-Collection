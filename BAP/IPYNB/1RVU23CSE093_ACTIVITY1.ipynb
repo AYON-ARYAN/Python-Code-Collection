{
 "cells": [
  {
   "cell_type": "code",
   "execution_count": 6,
   "id": "617eed14",
   "metadata": {},
   "outputs": [
    {
     "name": "stdout",
     "output_type": "stream",
     "text": [
      "Welcome to BMI calculator\n",
      "Enter your BMI: 23\n",
      "You are Normal Weight\n"
     ]
    }
   ],
   "source": [
    "print(\"Welcome to BMI calculator\")\n",
    "bmi = float(input(\"Enter your BMI: \"))\n",
    "\n",
    "if bmi >= 0 and bmi <= 18.5:\n",
    "    print(\"You are Underweight\")\n",
    "elif bmi > 18.5 and bmi <= 23:\n",
    "    print(\"You are Normal Weight\")\n",
    "elif bmi > 23 and bmi <= 25:\n",
    "    print(\"You are Overweight and are at risk\")\n",
    "elif bmi > 25 and bmi <= 30:\n",
    "    print(\"You are Overweight and Moderately Obese\")\n",
    "else:\n",
    "    print(\"You are Overweight and are Severely Obese\")\n"
   ]
  },
  {
   "cell_type": "code",
   "execution_count": 7,
   "id": "19ada775",
   "metadata": {},
   "outputs": [
    {
     "name": "stdout",
     "output_type": "stream",
     "text": [
      "Welcome to Marking System\n",
      "Enter your Marks: 55\n",
      "Grade: C\n"
     ]
    }
   ],
   "source": [
    "print(\"Welcome to Marking System\")\n",
    "ac = int(input(\"Enter your Marks: \"))\n",
    "\n",
    "if ac >= 80 and ac <= 100:\n",
    "    print(\"Grade: A\")\n",
    "elif ac >= 60 and ac < 80:\n",
    "    print(\"Grade: B\")\n",
    "elif ac >= 50 and ac < 60:\n",
    "    print(\"Grade: C\")\n",
    "elif ac >= 45 and ac < 50:\n",
    "    print(\"Grade: D\")\n",
    "elif ac >= 25 and ac < 45:\n",
    "    print(\"Grade: E\")\n",
    "else:\n",
    "    print(\"Grade: F\")\n"
   ]
  },
  {
   "cell_type": "code",
   "execution_count": null,
   "id": "82b3359c",
   "metadata": {},
   "outputs": [],
   "source": []
  }
 ],
 "metadata": {
  "kernelspec": {
   "display_name": "Python 3 (ipykernel)",
   "language": "python",
   "name": "python3"
  },
  "language_info": {
   "codemirror_mode": {
    "name": "ipython",
    "version": 3
   },
   "file_extension": ".py",
   "mimetype": "text/x-python",
   "name": "python",
   "nbconvert_exporter": "python",
   "pygments_lexer": "ipython3",
   "version": "3.11.4"
  }
 },
 "nbformat": 4,
 "nbformat_minor": 5
}
