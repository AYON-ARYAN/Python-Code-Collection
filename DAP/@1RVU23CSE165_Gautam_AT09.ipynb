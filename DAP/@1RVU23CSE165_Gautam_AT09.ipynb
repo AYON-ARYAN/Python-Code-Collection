{
 "cells": [
  {
   "cell_type": "markdown",
   "id": "878a2700",
   "metadata": {
    "id": "878a2700",
    "papermill": {
     "duration": 0.072036,
     "end_time": "2021-12-19T22:55:43.989144",
     "exception": false,
     "start_time": "2021-12-19T22:55:43.917108",
     "status": "completed"
    },
    "tags": []
   },
   "source": [
    "# CO3:\n",
    "\n",
    "\n",
    "## 3.1 Distribution\n",
    "\n",
    "## 3.2 Kurtosis\n",
    "\n",
    "\n",
    "**Measurement of Shape [ Kurtosis ]"
   ]
  },
  {
   "cell_type": "markdown",
   "id": "c289c4ab",
   "metadata": {
    "id": "c289c4ab"
   },
   "source": [
    "**Import the import library**"
   ]
  },
  {
   "cell_type": "code",
   "execution_count": 10,
   "id": "1c72e672",
   "metadata": {
    "id": "1c72e672"
   },
   "outputs": [],
   "source": [
    "#write your code below this line\n",
    "import pandas as pd\n",
    "from scipy.stats import kurtosis\n",
    "import seaborn as sns\n",
    "import matplotlib.pyplot as plt"
   ]
  },
  {
   "cell_type": "markdown",
   "id": "ecf96a55",
   "metadata": {
    "id": "ecf96a55"
   },
   "source": [
    "## **Problem 3.1.2.1: Analyse 3Salary_Data**"
   ]
  },
  {
   "cell_type": "code",
   "execution_count": 4,
   "id": "cf6b8919",
   "metadata": {
    "id": "cf6b8919"
   },
   "outputs": [
    {
     "data": {
      "text/html": [
       "<div>\n",
       "<style scoped>\n",
       "    .dataframe tbody tr th:only-of-type {\n",
       "        vertical-align: middle;\n",
       "    }\n",
       "\n",
       "    .dataframe tbody tr th {\n",
       "        vertical-align: top;\n",
       "    }\n",
       "\n",
       "    .dataframe thead th {\n",
       "        text-align: right;\n",
       "    }\n",
       "</style>\n",
       "<table border=\"1\" class=\"dataframe\">\n",
       "  <thead>\n",
       "    <tr style=\"text-align: right;\">\n",
       "      <th></th>\n",
       "      <th>YearsExperience</th>\n",
       "      <th>Salary</th>\n",
       "    </tr>\n",
       "  </thead>\n",
       "  <tbody>\n",
       "    <tr>\n",
       "      <th>0</th>\n",
       "      <td>1.1</td>\n",
       "      <td>39343.0</td>\n",
       "    </tr>\n",
       "    <tr>\n",
       "      <th>1</th>\n",
       "      <td>1.3</td>\n",
       "      <td>46205.0</td>\n",
       "    </tr>\n",
       "    <tr>\n",
       "      <th>2</th>\n",
       "      <td>1.5</td>\n",
       "      <td>37731.0</td>\n",
       "    </tr>\n",
       "  </tbody>\n",
       "</table>\n",
       "</div>"
      ],
      "text/plain": [
       "   YearsExperience   Salary\n",
       "0              1.1  39343.0\n",
       "1              1.3  46205.0\n",
       "2              1.5  37731.0"
      ]
     },
     "execution_count": 4,
     "metadata": {},
     "output_type": "execute_result"
    }
   ],
   "source": [
    "#Read and display the first 3 rows of the Dataset and store in df1 variable.\n",
    "#Write your code below this line\n",
    "a=pd.read_csv(\"/Volumes/PEN DRIVE/DATA ANALYTICS WITH PYTHON/3Salary_Data.csv\")\n",
    "a.head(3)"
   ]
  },
  {
   "cell_type": "code",
   "execution_count": 28,
   "id": "b2afc9ac",
   "metadata": {
    "id": "b2afc9ac"
   },
   "outputs": [
    {
     "data": {
      "text/plain": [
       "-1.0122119403325072"
      ]
     },
     "execution_count": 28,
     "metadata": {},
     "output_type": "execute_result"
    }
   ],
   "source": [
    "#Given Salary_data.csv, what is the kurtosis of the years of experience?\n",
    "#Write your code below this line\n",
    "a['YearsExperience'].kurt()"
   ]
  },
  {
   "cell_type": "code",
   "execution_count": 29,
   "id": "9bd2017a",
   "metadata": {
    "id": "9bd2017a"
   },
   "outputs": [
    {
     "data": {
      "text/plain": [
       "-1.295421086394517"
      ]
     },
     "execution_count": 29,
     "metadata": {},
     "output_type": "execute_result"
    }
   ],
   "source": [
    "#Given Salary_data.csv, what is the kurtosis of the Salary?\n",
    "#Write your code below this line\n",
    "a['Salary'].kurt()"
   ]
  },
  {
   "cell_type": "code",
   "execution_count": 13,
   "id": "6099b600",
   "metadata": {
    "id": "6099b600"
   },
   "outputs": [
    {
     "name": "stderr",
     "output_type": "stream",
     "text": [
      "/var/folders/z0/xn8hv70j05n1w90lxbyfytym0000gn/T/ipykernel_41963/625627186.py:2: UserWarning: \n",
      "\n",
      "`distplot` is a deprecated function and will be removed in seaborn v0.14.0.\n",
      "\n",
      "Please adapt your code to use either `displot` (a figure-level function with\n",
      "similar flexibility) or `histplot` (an axes-level function for histograms).\n",
      "\n",
      "For a guide to updating your code to use the new functions, please see\n",
      "https://gist.github.com/mwaskom/de44147ed2974457ad6372750bbe5751\n",
      "\n",
      "  sns.distplot(a)\n"
     ]
    },
    {
     "data": {
      "text/plain": [
       "<Axes: ylabel='Density'>"
      ]
     },
     "execution_count": 13,
     "metadata": {},
     "output_type": "execute_result"
    },
    {
     "data": {
      "image/png": "[encoded data removed]",
      "text/plain": [
       "<Figure size 640x480 with 1 Axes>"
      ]
     },
     "metadata": {},
     "output_type": "display_data"
    }
   ],
   "source": [
    "#Optional task: Graph or plot just for understanding the outlier status in the dataset.\n",
    "sns.distplot(a)"
   ]
  },
  {
   "cell_type": "markdown",
   "id": "114579f7",
   "metadata": {
    "id": "114579f7"
   },
   "source": [
    "## **Problem 3.1.2.2: Analyse laptop data**"
   ]
  },
  {
   "cell_type": "code",
   "execution_count": 9,
   "id": "501814ea",
   "metadata": {
    "id": "501814ea"
   },
   "outputs": [
    {
     "data": {
      "text/html": [
       "<div>\n",
       "<style scoped>\n",
       "    .dataframe tbody tr th:only-of-type {\n",
       "        vertical-align: middle;\n",
       "    }\n",
       "\n",
       "    .dataframe tbody tr th {\n",
       "        vertical-align: top;\n",
       "    }\n",
       "\n",
       "    .dataframe thead th {\n",
       "        text-align: right;\n",
       "    }\n",
       "</style>\n",
       "<table border=\"1\" class=\"dataframe\">\n",
       "  <thead>\n",
       "    <tr style=\"text-align: right;\">\n",
       "      <th></th>\n",
       "      <th>Manufacturer</th>\n",
       "      <th>Model_Name</th>\n",
       "      <th>Category</th>\n",
       "      <th>Screen_size_inches</th>\n",
       "      <th>Screen</th>\n",
       "      <th>CPU</th>\n",
       "      <th>RAM</th>\n",
       "      <th>Storage</th>\n",
       "      <th>GPU</th>\n",
       "      <th>Operating_System</th>\n",
       "      <th>Operating_System_Version</th>\n",
       "      <th>Weight_kg</th>\n",
       "      <th>Price_euros</th>\n",
       "      <th>Price_rupees</th>\n",
       "    </tr>\n",
       "  </thead>\n",
       "  <tbody>\n",
       "    <tr>\n",
       "      <th>0</th>\n",
       "      <td>Apple</td>\n",
       "      <td>MacBook Pro</td>\n",
       "      <td>Ultrabook</td>\n",
       "      <td>13.3</td>\n",
       "      <td>IPS Panel Retina Display 2560x1600</td>\n",
       "      <td>Intel Core i5 2.3GHz</td>\n",
       "      <td>8GB</td>\n",
       "      <td>128GB SSD</td>\n",
       "      <td>Intel Iris Plus Graphics 640</td>\n",
       "      <td>macOS</td>\n",
       "      <td>NaN</td>\n",
       "      <td>1.37</td>\n",
       "      <td>1339.69</td>\n",
       "      <td>118241.0</td>\n",
       "    </tr>\n",
       "    <tr>\n",
       "      <th>1</th>\n",
       "      <td>Apple</td>\n",
       "      <td>Macbook Air</td>\n",
       "      <td>Ultrabook</td>\n",
       "      <td>13.3</td>\n",
       "      <td>1440x900</td>\n",
       "      <td>Intel Core i5 1.8GHz</td>\n",
       "      <td>8GB</td>\n",
       "      <td>128GB Flash Storage</td>\n",
       "      <td>Intel HD Graphics 6000</td>\n",
       "      <td>macOS</td>\n",
       "      <td>NaN</td>\n",
       "      <td>1.34</td>\n",
       "      <td>898.94</td>\n",
       "      <td>79340.0</td>\n",
       "    </tr>\n",
       "    <tr>\n",
       "      <th>2</th>\n",
       "      <td>HP</td>\n",
       "      <td>250 G6</td>\n",
       "      <td>Notebook</td>\n",
       "      <td>15.6</td>\n",
       "      <td>Full HD 1920x1080</td>\n",
       "      <td>Intel Core i5 7200U 2.5GHz</td>\n",
       "      <td>8GB</td>\n",
       "      <td>256GB SSD</td>\n",
       "      <td>Intel HD Graphics 620</td>\n",
       "      <td>No OS</td>\n",
       "      <td>NaN</td>\n",
       "      <td>1.86</td>\n",
       "      <td>575.00</td>\n",
       "      <td>50750.0</td>\n",
       "    </tr>\n",
       "  </tbody>\n",
       "</table>\n",
       "</div>"
      ],
      "text/plain": [
       "  Manufacturer   Model_Name   Category  Screen_size_inches  \\\n",
       "0        Apple  MacBook Pro  Ultrabook                13.3   \n",
       "1        Apple  Macbook Air  Ultrabook                13.3   \n",
       "2           HP       250 G6   Notebook                15.6   \n",
       "\n",
       "                               Screen                         CPU  RAM  \\\n",
       "0  IPS Panel Retina Display 2560x1600        Intel Core i5 2.3GHz  8GB   \n",
       "1                            1440x900        Intel Core i5 1.8GHz  8GB   \n",
       "2                   Full HD 1920x1080  Intel Core i5 7200U 2.5GHz  8GB   \n",
       "\n",
       "               Storage                           GPU Operating_System  \\\n",
       "0            128GB SSD  Intel Iris Plus Graphics 640            macOS   \n",
       "1  128GB Flash Storage        Intel HD Graphics 6000            macOS   \n",
       "2            256GB SSD         Intel HD Graphics 620            No OS   \n",
       "\n",
       "  Operating_System_Version  Weight_kg  Price_euros  Price_rupees  \n",
       "0                      NaN       1.37      1339.69      118241.0  \n",
       "1                      NaN       1.34       898.94       79340.0  \n",
       "2                      NaN       1.86       575.00       50750.0  "
      ]
     },
     "execution_count": 9,
     "metadata": {},
     "output_type": "execute_result"
    }
   ],
   "source": [
    "#Read and display the first 3 rows of the Dataset and store in df2 variable.\n",
    "#Write your code below this line\n",
    "b=pd.read_csv(\"/Volumes/PEN DRIVE/DATA ANALYTICS WITH PYTHON/4laptops.csv\")\n",
    "b.head(3)"
   ]
  },
  {
   "cell_type": "code",
   "execution_count": 33,
   "id": "2b1c66ff",
   "metadata": {
    "id": "2b1c66ff"
   },
   "outputs": [
    {
     "data": {
      "text/plain": [
       "1.62714212097929"
      ]
     },
     "execution_count": 33,
     "metadata": {},
     "output_type": "execute_result"
    }
   ],
   "source": [
    "#How to identify how often outliers occur for the price of laptops in the dataset?\n",
    "#Write your code below this line\n",
    "\n",
    "b['Price_rupees'].skew()"
   ]
  },
  {
   "cell_type": "code",
   "execution_count": 39,
   "id": "f7793e72",
   "metadata": {
    "id": "f7793e72"
   },
   "outputs": [
    {
     "name": "stderr",
     "output_type": "stream",
     "text": [
      "/var/folders/z0/xn8hv70j05n1w90lxbyfytym0000gn/T/ipykernel_41963/2457643450.py:4: UserWarning: \n",
      "\n",
      "`distplot` is a deprecated function and will be removed in seaborn v0.14.0.\n",
      "\n",
      "Please adapt your code to use either `displot` (a figure-level function with\n",
      "similar flexibility) or `histplot` (an axes-level function for histograms).\n",
      "\n",
      "For a guide to updating your code to use the new functions, please see\n",
      "https://gist.github.com/mwaskom/de44147ed2974457ad6372750bbe5751\n",
      "\n",
      "  sns.distplot(selected_column)\n"
     ]
    },
    {
     "data": {
      "image/png": "[encoded data removed]",
      "text/plain": [
       "<Figure size 640x480 with 1 Axes>"
      ]
     },
     "metadata": {},
     "output_type": "display_data"
    },
    {
     "name": "stdout",
     "output_type": "stream",
     "text": [
      "Moderately skewed\n"
     ]
    }
   ],
   "source": [
    "#how do we identify direction of outliers/skewness of the laptop weights?\n",
    "#Write your code below this line\n",
    "selected_column = b['Weight_kg']\n",
    "sns.distplot(selected_column)\n",
    "plt.show()\n",
    "co=b['Weight_kg'].skew()\n",
    "if -1>co>1:\n",
    "    print(\"Highly skewed\")\n",
    "else:\n",
    "    print(\"Moderately skewed\")\n",
    "\n"
   ]
  },
  {
   "cell_type": "markdown",
   "id": "bf9fc12e",
   "metadata": {
    "id": "bf9fc12e"
   },
   "source": [
    "## **Problem 3.1.2.3: Analyse McDonalds' revenue**"
   ]
  },
  {
   "cell_type": "code",
   "execution_count": 17,
   "id": "1f6e3afe",
   "metadata": {
    "id": "1f6e3afe"
   },
   "outputs": [
    {
     "data": {
      "text/html": [
       "<div>\n",
       "<style scoped>\n",
       "    .dataframe tbody tr th:only-of-type {\n",
       "        vertical-align: middle;\n",
       "    }\n",
       "\n",
       "    .dataframe tbody tr th {\n",
       "        vertical-align: top;\n",
       "    }\n",
       "\n",
       "    .dataframe thead th {\n",
       "        text-align: right;\n",
       "    }\n",
       "</style>\n",
       "<table border=\"1\" class=\"dataframe\">\n",
       "  <thead>\n",
       "    <tr style=\"text-align: right;\">\n",
       "      <th></th>\n",
       "      <th>Unnamed: 0</th>\n",
       "      <th>Year</th>\n",
       "      <th>McDonalds_Revenue_$Billion</th>\n",
       "      <th>Growth_rate_percent</th>\n",
       "      <th>Q1</th>\n",
       "      <th>Q2</th>\n",
       "      <th>Q3</th>\n",
       "      <th>Q4</th>\n",
       "    </tr>\n",
       "  </thead>\n",
       "  <tbody>\n",
       "    <tr>\n",
       "      <th>0</th>\n",
       "      <td>0</td>\n",
       "      <td>1999</td>\n",
       "      <td>13.3</td>\n",
       "      <td>2.73913</td>\n",
       "      <td>5.43</td>\n",
       "      <td>5.795</td>\n",
       "      <td>6.035</td>\n",
       "      <td>5.609524</td>\n",
       "    </tr>\n",
       "    <tr>\n",
       "      <th>1</th>\n",
       "      <td>1</td>\n",
       "      <td>2000</td>\n",
       "      <td>14.2</td>\n",
       "      <td>7.00000</td>\n",
       "      <td>5.43</td>\n",
       "      <td>5.795</td>\n",
       "      <td>6.035</td>\n",
       "      <td>5.609524</td>\n",
       "    </tr>\n",
       "    <tr>\n",
       "      <th>2</th>\n",
       "      <td>2</td>\n",
       "      <td>2001</td>\n",
       "      <td>14.9</td>\n",
       "      <td>4.00000</td>\n",
       "      <td>5.43</td>\n",
       "      <td>5.795</td>\n",
       "      <td>6.035</td>\n",
       "      <td>5.609524</td>\n",
       "    </tr>\n",
       "  </tbody>\n",
       "</table>\n",
       "</div>"
      ],
      "text/plain": [
       "   Unnamed: 0  Year  McDonalds_Revenue_$Billion  Growth_rate_percent    Q1  \\\n",
       "0           0  1999                        13.3              2.73913  5.43   \n",
       "1           1  2000                        14.2              7.00000  5.43   \n",
       "2           2  2001                        14.9              4.00000  5.43   \n",
       "\n",
       "      Q2     Q3        Q4  \n",
       "0  5.795  6.035  5.609524  \n",
       "1  5.795  6.035  5.609524  \n",
       "2  5.795  6.035  5.609524  "
      ]
     },
     "execution_count": 17,
     "metadata": {},
     "output_type": "execute_result"
    }
   ],
   "source": [
    "#Read and display the first 3 rows of the Dataset and store in df3 variable.\n",
    "#Write your code below this line\n",
    "c=pd.read_csv(\"/Volumes/PEN DRIVE/DATA ANALYTICS WITH PYTHON/6Mcd.csv\")\n",
    "c.head(3)"
   ]
  },
  {
   "cell_type": "code",
   "execution_count": 40,
   "id": "6fe0f530",
   "metadata": {
    "id": "6fe0f530"
   },
   "outputs": [
    {
     "name": "stderr",
     "output_type": "stream",
     "text": [
      "/var/folders/z0/xn8hv70j05n1w90lxbyfytym0000gn/T/ipykernel_41963/1521779968.py:4: UserWarning: \n",
      "\n",
      "`distplot` is a deprecated function and will be removed in seaborn v0.14.0.\n",
      "\n",
      "Please adapt your code to use either `displot` (a figure-level function with\n",
      "similar flexibility) or `histplot` (an axes-level function for histograms).\n",
      "\n",
      "For a guide to updating your code to use the new functions, please see\n",
      "https://gist.github.com/mwaskom/de44147ed2974457ad6372750bbe5751\n",
      "\n",
      "  sns.distplot(selected_column)\n"
     ]
    },
    {
     "data": {
      "image/png": "[encoded data removed]",
      "text/plain": [
       "<Figure size 640x480 with 1 Axes>"
      ]
     },
     "metadata": {},
     "output_type": "display_data"
    },
    {
     "name": "stdout",
     "output_type": "stream",
     "text": [
      "Moderately skewed\n"
     ]
    }
   ],
   "source": [
    "#How do we identify the intensity of outliers of McD's revenues?\n",
    "#Write your code below this line\n",
    "selected_column = c['McDonalds_Revenue_$Billion']\n",
    "sns.distplot(selected_column)\n",
    "plt.show()\n",
    "co1=c['McDonalds_Revenue_$Billion'].skew()\n",
    "if -1>co1>1:\n",
    "    print(\"Highly skewed\")\n",
    "else:\n",
    "    print(\"Moderately skewed\")"
   ]
  },
  {
   "cell_type": "markdown",
   "id": "724fa168",
   "metadata": {
    "id": "724fa168"
   },
   "source": [
    "## **Problem 3.1.2.4: Analyse salary of data scientists**\n",
    "\n",
    "**5d_Salary.csv Dataset"
   ]
  },
  {
   "cell_type": "code",
   "execution_count": 24,
   "id": "dd726231",
   "metadata": {
    "id": "dd726231"
   },
   "outputs": [
    {
     "data": {
      "text/html": [
       "<div>\n",
       "<style scoped>\n",
       "    .dataframe tbody tr th:only-of-type {\n",
       "        vertical-align: middle;\n",
       "    }\n",
       "\n",
       "    .dataframe tbody tr th {\n",
       "        vertical-align: top;\n",
       "    }\n",
       "\n",
       "    .dataframe thead th {\n",
       "        text-align: right;\n",
       "    }\n",
       "</style>\n",
       "<table border=\"1\" class=\"dataframe\">\n",
       "  <thead>\n",
       "    <tr style=\"text-align: right;\">\n",
       "      <th></th>\n",
       "      <th>work_year</th>\n",
       "      <th>experience_level</th>\n",
       "      <th>employment_type</th>\n",
       "      <th>job_title</th>\n",
       "      <th>salary</th>\n",
       "      <th>salary_currency</th>\n",
       "      <th>salary_in_usd</th>\n",
       "      <th>employee_residence</th>\n",
       "      <th>remote_ratio</th>\n",
       "      <th>company_location</th>\n",
       "      <th>company_size</th>\n",
       "    </tr>\n",
       "  </thead>\n",
       "  <tbody>\n",
       "    <tr>\n",
       "      <th>0</th>\n",
       "      <td>2023</td>\n",
       "      <td>SE</td>\n",
       "      <td>FT</td>\n",
       "      <td>Principal Data Scientist</td>\n",
       "      <td>80000</td>\n",
       "      <td>EUR</td>\n",
       "      <td>85847</td>\n",
       "      <td>ES</td>\n",
       "      <td>100</td>\n",
       "      <td>ES</td>\n",
       "      <td>L</td>\n",
       "    </tr>\n",
       "    <tr>\n",
       "      <th>1</th>\n",
       "      <td>2023</td>\n",
       "      <td>MI</td>\n",
       "      <td>CT</td>\n",
       "      <td>ML Engineer</td>\n",
       "      <td>30000</td>\n",
       "      <td>USD</td>\n",
       "      <td>30000</td>\n",
       "      <td>US</td>\n",
       "      <td>100</td>\n",
       "      <td>US</td>\n",
       "      <td>S</td>\n",
       "    </tr>\n",
       "    <tr>\n",
       "      <th>2</th>\n",
       "      <td>2023</td>\n",
       "      <td>MI</td>\n",
       "      <td>CT</td>\n",
       "      <td>ML Engineer</td>\n",
       "      <td>25500</td>\n",
       "      <td>USD</td>\n",
       "      <td>25500</td>\n",
       "      <td>US</td>\n",
       "      <td>100</td>\n",
       "      <td>US</td>\n",
       "      <td>S</td>\n",
       "    </tr>\n",
       "  </tbody>\n",
       "</table>\n",
       "</div>"
      ],
      "text/plain": [
       "   work_year experience_level employment_type                 job_title  \\\n",
       "0       2023               SE              FT  Principal Data Scientist   \n",
       "1       2023               MI              CT               ML Engineer   \n",
       "2       2023               MI              CT               ML Engineer   \n",
       "\n",
       "   salary salary_currency  salary_in_usd employee_residence  remote_ratio  \\\n",
       "0   80000             EUR          85847                 ES           100   \n",
       "1   30000             USD          30000                 US           100   \n",
       "2   25500             USD          25500                 US           100   \n",
       "\n",
       "  company_location company_size  \n",
       "0               ES            L  \n",
       "1               US            S  \n",
       "2               US            S  "
      ]
     },
     "execution_count": 24,
     "metadata": {},
     "output_type": "execute_result"
    }
   ],
   "source": [
    "#Read and display the first 3 rows of the Dataset and store in df4 variable.\n",
    "#Write your code below this line\\\n",
    "d=pd.read_csv(\"/Volumes/PEN DRIVE/DATA ANALYTICS WITH PYTHON/5ds_salaries.csv\")\n",
    "d.head(3)\n"
   ]
  },
  {
   "cell_type": "code",
   "execution_count": 30,
   "id": "ed4c1e25",
   "metadata": {
    "id": "ed4c1e25"
   },
   "outputs": [
    {
     "data": {
      "text/plain": [
       "0.8340064594833612"
      ]
     },
     "execution_count": 30,
     "metadata": {},
     "output_type": "execute_result"
    }
   ],
   "source": [
    "#Find the kurtosis in the column Revenue in Dollars\n",
    "#Write your code below this line\n",
    "\n",
    "d['salary_in_usd'].kurt()"
   ]
  },
  {
   "cell_type": "code",
   "execution_count": 31,
   "id": "fcbfe03a",
   "metadata": {
    "id": "fcbfe03a"
   },
   "outputs": [
    {
     "data": {
      "text/plain": [
       "-1.925036324549662"
      ]
     },
     "execution_count": 31,
     "metadata": {},
     "output_type": "execute_result"
    }
   ],
   "source": [
    "#Find the kurtosis of the column Remote Ratio in Dollars\n",
    "#Write your code below this line\n",
    "\n",
    "d['remote_ratio'].kurt()"
   ]
  },
  {
   "cell_type": "markdown",
   "id": "9ed69fde",
   "metadata": {
    "id": "9ed69fde"
   },
   "source": [
    "### Additional Practices [ Optional ]"
   ]
  },
  {
   "cell_type": "markdown",
   "id": "85845cfa",
   "metadata": {
    "id": "85845cfa"
   },
   "source": [
    "Import the iris Dataset for Demonstration for measurement of Spread using Skewness and kurtosis"
   ]
  },
  {
   "cell_type": "code",
   "execution_count": 27,
   "id": "930d0665",
   "metadata": {
    "id": "930d0665"
   },
   "outputs": [
    {
     "data": {
      "text/html": [
       "<div>\n",
       "<style scoped>\n",
       "    .dataframe tbody tr th:only-of-type {\n",
       "        vertical-align: middle;\n",
       "    }\n",
       "\n",
       "    .dataframe tbody tr th {\n",
       "        vertical-align: top;\n",
       "    }\n",
       "\n",
       "    .dataframe thead th {\n",
       "        text-align: right;\n",
       "    }\n",
       "</style>\n",
       "<table border=\"1\" class=\"dataframe\">\n",
       "  <thead>\n",
       "    <tr style=\"text-align: right;\">\n",
       "      <th></th>\n",
       "      <th>Id</th>\n",
       "      <th>SepalLengthCm</th>\n",
       "      <th>SepalWidthCm</th>\n",
       "      <th>PetalLengthCm</th>\n",
       "      <th>PetalWidthCm</th>\n",
       "      <th>Species</th>\n",
       "    </tr>\n",
       "  </thead>\n",
       "  <tbody>\n",
       "    <tr>\n",
       "      <th>0</th>\n",
       "      <td>1</td>\n",
       "      <td>5.1</td>\n",
       "      <td>3.5</td>\n",
       "      <td>1.4</td>\n",
       "      <td>0.2</td>\n",
       "      <td>Iris-setosa</td>\n",
       "    </tr>\n",
       "    <tr>\n",
       "      <th>1</th>\n",
       "      <td>2</td>\n",
       "      <td>4.9</td>\n",
       "      <td>3.0</td>\n",
       "      <td>1.4</td>\n",
       "      <td>0.2</td>\n",
       "      <td>Iris-setosa</td>\n",
       "    </tr>\n",
       "    <tr>\n",
       "      <th>2</th>\n",
       "      <td>3</td>\n",
       "      <td>4.7</td>\n",
       "      <td>3.2</td>\n",
       "      <td>1.3</td>\n",
       "      <td>0.2</td>\n",
       "      <td>Iris-setosa</td>\n",
       "    </tr>\n",
       "    <tr>\n",
       "      <th>3</th>\n",
       "      <td>4</td>\n",
       "      <td>4.6</td>\n",
       "      <td>3.1</td>\n",
       "      <td>1.5</td>\n",
       "      <td>0.2</td>\n",
       "      <td>Iris-setosa</td>\n",
       "    </tr>\n",
       "    <tr>\n",
       "      <th>4</th>\n",
       "      <td>5</td>\n",
       "      <td>5.0</td>\n",
       "      <td>3.6</td>\n",
       "      <td>1.4</td>\n",
       "      <td>0.2</td>\n",
       "      <td>Iris-setosa</td>\n",
       "    </tr>\n",
       "    <tr>\n",
       "      <th>...</th>\n",
       "      <td>...</td>\n",
       "      <td>...</td>\n",
       "      <td>...</td>\n",
       "      <td>...</td>\n",
       "      <td>...</td>\n",
       "      <td>...</td>\n",
       "    </tr>\n",
       "    <tr>\n",
       "      <th>145</th>\n",
       "      <td>146</td>\n",
       "      <td>6.7</td>\n",
       "      <td>3.0</td>\n",
       "      <td>5.2</td>\n",
       "      <td>2.3</td>\n",
       "      <td>Iris-virginica</td>\n",
       "    </tr>\n",
       "    <tr>\n",
       "      <th>146</th>\n",
       "      <td>147</td>\n",
       "      <td>6.3</td>\n",
       "      <td>2.5</td>\n",
       "      <td>5.0</td>\n",
       "      <td>1.9</td>\n",
       "      <td>Iris-virginica</td>\n",
       "    </tr>\n",
       "    <tr>\n",
       "      <th>147</th>\n",
       "      <td>148</td>\n",
       "      <td>6.5</td>\n",
       "      <td>3.0</td>\n",
       "      <td>5.2</td>\n",
       "      <td>2.0</td>\n",
       "      <td>Iris-virginica</td>\n",
       "    </tr>\n",
       "    <tr>\n",
       "      <th>148</th>\n",
       "      <td>149</td>\n",
       "      <td>6.2</td>\n",
       "      <td>3.4</td>\n",
       "      <td>5.4</td>\n",
       "      <td>2.3</td>\n",
       "      <td>Iris-virginica</td>\n",
       "    </tr>\n",
       "    <tr>\n",
       "      <th>149</th>\n",
       "      <td>150</td>\n",
       "      <td>5.9</td>\n",
       "      <td>3.0</td>\n",
       "      <td>5.1</td>\n",
       "      <td>1.8</td>\n",
       "      <td>Iris-virginica</td>\n",
       "    </tr>\n",
       "  </tbody>\n",
       "</table>\n",
       "<p>150 rows × 6 columns</p>\n",
       "</div>"
      ],
      "text/plain": [
       "      Id  SepalLengthCm  SepalWidthCm  PetalLengthCm  PetalWidthCm  \\\n",
       "0      1            5.1           3.5            1.4           0.2   \n",
       "1      2            4.9           3.0            1.4           0.2   \n",
       "2      3            4.7           3.2            1.3           0.2   \n",
       "3      4            4.6           3.1            1.5           0.2   \n",
       "4      5            5.0           3.6            1.4           0.2   \n",
       "..   ...            ...           ...            ...           ...   \n",
       "145  146            6.7           3.0            5.2           2.3   \n",
       "146  147            6.3           2.5            5.0           1.9   \n",
       "147  148            6.5           3.0            5.2           2.0   \n",
       "148  149            6.2           3.4            5.4           2.3   \n",
       "149  150            5.9           3.0            5.1           1.8   \n",
       "\n",
       "            Species  \n",
       "0       Iris-setosa  \n",
       "1       Iris-setosa  \n",
       "2       Iris-setosa  \n",
       "3       Iris-setosa  \n",
       "4       Iris-setosa  \n",
       "..              ...  \n",
       "145  Iris-virginica  \n",
       "146  Iris-virginica  \n",
       "147  Iris-virginica  \n",
       "148  Iris-virginica  \n",
       "149  Iris-virginica  \n",
       "\n",
       "[150 rows x 6 columns]"
      ]
     },
     "execution_count": 27,
     "metadata": {},
     "output_type": "execute_result"
    }
   ],
   "source": [
    "#import the library and import the IRIS dataset and store in df5 variable.\n",
    "e=pd.read_csv(\"/Volumes/PEN DRIVE/DATA ANALYTICS WITH PYTHON/Iris - Iris.csv\")\n",
    "e"
   ]
  },
  {
   "cell_type": "code",
   "execution_count": 38,
   "id": "c8e94595",
   "metadata": {
    "id": "c8e94595"
   },
   "outputs": [
    {
     "name": "stderr",
     "output_type": "stream",
     "text": [
      "/var/folders/z0/xn8hv70j05n1w90lxbyfytym0000gn/T/ipykernel_41963/3917729873.py:2: FutureWarning: The default value of numeric_only in DataFrame.skew is deprecated. In a future version, it will default to False. In addition, specifying 'numeric_only=None' is deprecated. Select only valid columns or specify the value of numeric_only to silence this warning.\n",
      "  e.skew()\n"
     ]
    },
    {
     "data": {
      "text/plain": [
       "Id               0.000000\n",
       "SepalLengthCm    0.314911\n",
       "SepalWidthCm     0.334053\n",
       "PetalLengthCm   -0.274464\n",
       "PetalWidthCm    -0.104997\n",
       "dtype: float64"
      ]
     },
     "execution_count": 38,
     "metadata": {},
     "output_type": "execute_result"
    }
   ],
   "source": [
    "#Calculate the Skewness for above dataset and answer which direction of  outliers in each column.\n",
    "e.skew()"
   ]
  },
  {
   "cell_type": "code",
   "execution_count": null,
   "id": "8d81f136",
   "metadata": {
    "id": "8d81f136"
   },
   "outputs": [],
   "source": [
    "#Calculate the kurtosis for above dataset and answer which column have heavy or more outliers."
   ]
  },
  {
   "cell_type": "markdown",
   "id": "2f9062a7",
   "metadata": {
    "id": "2f9062a7"
   },
   "source": [
    "**#Answer** [Write your answer below this line]"
   ]
  },
  {
   "cell_type": "code",
   "execution_count": null,
   "id": "dc36f193",
   "metadata": {
    "id": "dc36f193"
   },
   "outputs": [],
   "source": [
    "# Attempt the MCQ for best practices for Self Assessment : Link [https://forms.gle/jH5xQG9cucjFuTtz5]\n",
    "#MCQ will be accessable after finishing the above task."
   ]
  }
 ],
 "metadata": {
  "colab": {
   "provenance": []
  },
  "kernelspec": {
   "display_name": "Python 3 (ipykernel)",
   "language": "python",
   "name": "python3"
  },
  "language_info": {
   "codemirror_mode": {
    "name": "ipython",
    "version": 3
   },
   "file_extension": ".py",
   "mimetype": "text/x-python",
   "name": "python",
   "nbconvert_exporter": "python",
   "pygments_lexer": "ipython3",
   "version": "3.11.4"
  },
  "papermill": {
   "default_parameters": {},
   "duration": 62.028553,
   "end_time": "2021-12-19T22:56:34.747510",
   "environment_variables": {},
   "exception": null,
   "input_path": "__notebook__.ipynb",
   "output_path": "__notebook__.ipynb",
   "parameters": {},
   "start_time": "2021-12-19T22:55:32.718957",
   "version": "2.3.3"
  }
 },
 "nbformat": 4,
 "nbformat_minor": 5
}
