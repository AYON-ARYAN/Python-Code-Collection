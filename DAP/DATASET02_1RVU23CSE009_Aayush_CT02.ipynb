{
 "cells": [
  {
   "cell_type": "markdown",
   "id": "9a7b5fd7",
   "metadata": {},
   "source": [
    "**Student ID:**  RVUN23BCSXXX [edit]\n",
    "\n",
    "**Section H**\n",
    "\n",
    "**Assessment:** CO3: Percentile, Skewness and Kurtosis [10 Marks = 5 CODE + 5 MCQ]"
   ]
  },
  {
   "cell_type": "markdown",
   "id": "c390916a",
   "metadata": {},
   "source": [
    "Assessment Instructions:\n",
    "\n",
    "- Do not delete cells containing #ans.\n",
    "- Do not remove any pre-exit from the cell before writing the code * Only edit the datasetOX with your SET number.\n",
    "- Do not create extra cells to write the code.\n",
    "- Write all lines of code in the assigned question placeholder.\n",
    "\n",
    "**Total Time:** 45 Minutes [ Including 15 min to upload and Download the File ]\n",
    "\n",
    "**MCQ Time:** 10 Minutes\n"
   ]
  },
  {
   "cell_type": "markdown",
   "id": "21b26117",
   "metadata": {},
   "source": [
    "**Display** first 3 Rows from the dataset in the output."
   ]
  },
  {
   "cell_type": "code",
   "execution_count": 10,
   "id": "751cd7c2",
   "metadata": {},
   "outputs": [
    {
     "data": {
      "text/html": [
       "<div>\n",
       "<style scoped>\n",
       "    .dataframe tbody tr th:only-of-type {\n",
       "        vertical-align: middle;\n",
       "    }\n",
       "\n",
       "    .dataframe tbody tr th {\n",
       "        vertical-align: top;\n",
       "    }\n",
       "\n",
       "    .dataframe thead th {\n",
       "        text-align: right;\n",
       "    }\n",
       "</style>\n",
       "<table border=\"1\" class=\"dataframe\">\n",
       "  <thead>\n",
       "    <tr style=\"text-align: right;\">\n",
       "      <th></th>\n",
       "      <th>Index</th>\n",
       "      <th>Column1</th>\n",
       "      <th>Column2</th>\n",
       "    </tr>\n",
       "  </thead>\n",
       "  <tbody>\n",
       "    <tr>\n",
       "      <th>0</th>\n",
       "      <td>1</td>\n",
       "      <td>65.78331</td>\n",
       "      <td>112.9925</td>\n",
       "    </tr>\n",
       "    <tr>\n",
       "      <th>1</th>\n",
       "      <td>2</td>\n",
       "      <td>71.51521</td>\n",
       "      <td>189.2627</td>\n",
       "    </tr>\n",
       "    <tr>\n",
       "      <th>2</th>\n",
       "      <td>3</td>\n",
       "      <td>69.39874</td>\n",
       "      <td>153.0269</td>\n",
       "    </tr>\n",
       "  </tbody>\n",
       "</table>\n",
       "</div>"
      ],
      "text/plain": [
       "   Index   Column1   Column2\n",
       "0      1  65.78331  112.9925\n",
       "1      2  71.51521  189.2627\n",
       "2      3  69.39874  153.0269"
      ]
     },
     "execution_count": 10,
     "metadata": {},
     "output_type": "execute_result"
    }
   ],
   "source": [
    "#----------------------\n",
    "import pandas as pd \n",
    "df = pd.read_csv('Dataset02 - Dataset02.csv') #replace the x with assigned SET\n",
    "#-----------------------\n",
    "#Write your code below this line\n",
    "import pandas as pd\n",
    "from scipy.stats import kurtosis\n",
    "import seaborn as sns\n",
    "import matplotlib.pyplot as plt\n",
    "df.head(3)"
   ]
  },
  {
   "cell_type": "markdown",
   "id": "abb1efd0",
   "metadata": {},
   "source": [
    "**Question 00:** Calculate the 50th percentile of first column of the given set."
   ]
  },
  {
   "cell_type": "code",
   "execution_count": 7,
   "id": "67e2639a",
   "metadata": {},
   "outputs": [
    {
     "data": {
      "text/plain": [
       "68.21805499999999"
      ]
     },
     "execution_count": 7,
     "metadata": {},
     "output_type": "execute_result"
    }
   ],
   "source": [
    "#ans1\n",
    "#----------------------\n",
    "\n",
    "#Write your code below this line\n",
    "import numpy as np\n",
    "\n",
    "\n",
    "selected_column = df['Column1']\n",
    "\n",
    "\n",
    "np.percentile(selected_column, 50)"
   ]
  },
  {
   "cell_type": "markdown",
   "id": "5c44387e",
   "metadata": {},
   "source": [
    "Edit this cell -- > **[Write the Explaination below this line] for conclusion from the above output in short**"
   ]
  },
  {
   "cell_type": "markdown",
   "id": "a808062a",
   "metadata": {},
   "source": [
    "**Question 01:** Demonstrate the skewness of column 1 in the assigned Dataset."
   ]
  },
  {
   "cell_type": "code",
   "execution_count": 9,
   "id": "5b72ef72",
   "metadata": {},
   "outputs": [
    {
     "data": {
      "text/plain": [
       "-0.2664081466706914"
      ]
     },
     "execution_count": 9,
     "metadata": {},
     "output_type": "execute_result"
    }
   ],
   "source": [
    "#ans2\n",
    "#----------------------\n",
    "import pandas as pd \n",
    "df = pd.read_csv('Dataset02 - Dataset02.csv') #replace the x with assigned SET\n",
    "#-----------------------\n",
    "#Write your code below this line\n",
    "df['Column1'].skew()"
   ]
  },
  {
   "cell_type": "markdown",
   "id": "7b2b052d",
   "metadata": {},
   "source": [
    "Edit this cell -- > **[Write the Explaination below this line] for conclusion from the above output in short**"
   ]
  },
  {
   "cell_type": "code",
   "execution_count": null,
   "id": "4bcaffe2",
   "metadata": {},
   "outputs": [],
   "source": [
    "#Rough work code cell : Write code below this line\n",
    "Dataset02 - Dataset02.csv'\n",
    "\n",
    "selected_column = df['Column1']\n",
    "np.percentile(selected_column, 50)\n"
   ]
  },
  {
   "cell_type": "markdown",
   "id": "64c72fc7",
   "metadata": {},
   "source": [
    "**Question 02:** Demonstrate the direction of outlier in column 2 in the assigned Dataset."
   ]
  },
  {
   "cell_type": "code",
   "execution_count": 22,
   "id": "4f3350cb",
   "metadata": {},
   "outputs": [
    {
     "data": {
      "text/plain": [
       "0.010012905355973118"
      ]
     },
     "execution_count": 22,
     "metadata": {},
     "output_type": "execute_result"
    }
   ],
   "source": [
    "#ans3\n",
    "#----------------------\n",
    "import pandas as pd \n",
    "df = pd.read_csv('Dataset02 - Dataset02.csv') #replace the x with assigned SET\n",
    "#-----------------------\n",
    "#Write your code below this line\n",
    "\n",
    "df['Column2'].skew()"
   ]
  },
  {
   "cell_type": "code",
   "execution_count": 14,
   "id": "7b424b01",
   "metadata": {},
   "outputs": [
    {
     "name": "stdout",
     "output_type": "stream",
     "text": [
      "Normal Distribution\n"
     ]
    }
   ],
   "source": [
    "#ans4\n",
    "#Only Uncomment the correct answer with respect to above output interpretation\n",
    "\n",
    "#print(\"Highly Positive Skewed\")\n",
    "#print(\"Highly Negative Skewed\")\n",
    "print(\"Normal Distribution\")\n",
    "#print(\"Moderated Positive Skewed\")\n",
    "#print(\"Moderated Negative Skewed\")"
   ]
  },
  {
   "cell_type": "markdown",
   "id": "10fd2276",
   "metadata": {},
   "source": [
    "Edit this cell -- > **[Write the Explaination below this line] for conclusion from the above output in short**"
   ]
  },
  {
   "cell_type": "markdown",
   "id": "1fa0d0d9",
   "metadata": {},
   "source": [
    "**Question 03:** Demonstrate weather the outlier is more or less  in column 1 of the assigned Dataset."
   ]
  },
  {
   "cell_type": "code",
   "execution_count": 23,
   "id": "0d19d8ab",
   "metadata": {
    "scrolled": true
   },
   "outputs": [
    {
     "data": {
      "text/plain": [
       "-0.2042169009240986"
      ]
     },
     "execution_count": 23,
     "metadata": {},
     "output_type": "execute_result"
    }
   ],
   "source": [
    "#ans5\n",
    "#----------------------\n",
    "import pandas as pd \n",
    "df = pd.read_csv('Dataset02 - Dataset02.csv') #replace the x with assigned SET\n",
    "#-----------------------\n",
    "#Write your code below this line\n",
    "\n",
    "df['Column1'].kurt()"
   ]
  },
  {
   "cell_type": "code",
   "execution_count": null,
   "id": "a7238e83",
   "metadata": {},
   "outputs": [],
   "source": [
    "#Rough work code cell : Write code below this line\n",
    "\n",
    "\n",
    "Dataset02 - Dataset02.csv'\n",
    "\n",
    "selected_column = df['Column1']\n",
    "np.percentile(selected_column, 50)\n"
   ]
  },
  {
   "cell_type": "markdown",
   "id": "115c3f4f",
   "metadata": {},
   "source": [
    "Edit this cell -- > **[Write the Explaination below this line] for conclusion from the above output in short**"
   ]
  },
  {
   "cell_type": "markdown",
   "id": "ec3efdf2",
   "metadata": {},
   "source": [
    "**Question 04:** Demonstrate weather the outlier is more or less  in column 2 of the assigned Dataset."
   ]
  },
  {
   "cell_type": "code",
   "execution_count": 24,
   "id": "50e7180d",
   "metadata": {},
   "outputs": [
    {
     "data": {
      "text/plain": [
       "1.030048721766439"
      ]
     },
     "execution_count": 24,
     "metadata": {},
     "output_type": "execute_result"
    }
   ],
   "source": [
    "#ans6\n",
    "#----------------------\n",
    "import pandas as pd \n",
    "df = pd.read_csv('Dataset02 - Dataset02.csv') #replace the x with assigned SET\n",
    "#-----------------------\n",
    "#Write your code below this line\n",
    "\n",
    "df['Column2'].kurt()"
   ]
  },
  {
   "cell_type": "markdown",
   "id": "ebbb0fe5",
   "metadata": {},
   "source": [
    "Edit this cell -- > **[Write the Explaination below this line] for conclusion from the above output in short**"
   ]
  },
  {
   "cell_type": "code",
   "execution_count": null,
   "id": "9c289e1b",
   "metadata": {},
   "outputs": [],
   "source": [
    "#Rough work code cell : Write code below this line\n",
    "\n",
    "\n"
   ]
  },
  {
   "cell_type": "markdown",
   "id": "fb7eb6e6",
   "metadata": {},
   "source": [
    "**Question 04:** Demonstrate weather the outlier is more or less  in column 2 of the assigned Dataset."
   ]
  },
  {
   "cell_type": "code",
   "execution_count": 19,
   "id": "e75fb77a",
   "metadata": {},
   "outputs": [
    {
     "data": {
      "text/plain": [
       "-0.2042169009240986"
      ]
     },
     "execution_count": 19,
     "metadata": {},
     "output_type": "execute_result"
    }
   ],
   "source": [
    "#ans7\n",
    "#----------------------\n",
    "import pandas as pd \n",
    "df = pd.read_csv('Dataset02 - Dataset02.csv') #replace the x with assigned SET\n",
    "#-----------------------\n",
    "#Write your code below this line\n",
    "df['Column1'].kurt()"
   ]
  },
  {
   "cell_type": "code",
   "execution_count": 21,
   "id": "dc8f11f9",
   "metadata": {},
   "outputs": [
    {
     "name": "stdout",
     "output_type": "stream",
     "text": [
      "Less Outliers as compare to Normal Distribution\n"
     ]
    }
   ],
   "source": [
    "#ans8\n",
    "#Only Uncomment the correct answer with respect to above output interpretation\n",
    "\n",
    "#print(\"More Outliers as compare to Normal Distribution\")\n",
    "print(\"Less Outliers as compare to Normal Distribution\")\n",
    "#print(\"Equivalent to Normal Distribution\")"
   ]
  },
  {
   "cell_type": "markdown",
   "id": "8fc0e426",
   "metadata": {},
   "source": [
    "Edit this cell -- > **[Write the Explaination below this line] for conclusion from the above output in short**\n",
    "\n",
    "\n"
   ]
  },
  {
   "cell_type": "markdown",
   "id": "f7518ea6",
   "metadata": {},
   "source": [
    "#------------------#--------------------#---------------------#--------------------#---------------------#--------------------#"
   ]
  },
  {
   "cell_type": "markdown",
   "id": "2f25fbc2",
   "metadata": {},
   "source": [
    "**Short QUIZ LINK :** https://forms.gle/4ojasmPLU62B5qer7 \n",
    "        \n",
    "**ACCESS TIME :** 3:30 PM - 3:40PM"
   ]
  }
 ],
 "metadata": {
  "kernelspec": {
   "display_name": "Python 3 (ipykernel)",
   "language": "python",
   "name": "python3"
  },
  "language_info": {
   "codemirror_mode": {
    "name": "ipython",
    "version": 3
   },
   "file_extension": ".py",
   "mimetype": "text/x-python",
   "name": "python",
   "nbconvert_exporter": "python",
   "pygments_lexer": "ipython3",
   "version": "3.11.4"
  }
 },
 "nbformat": 4,
 "nbformat_minor": 5
}
